{
 "cells": [
  {
   "cell_type": "markdown",
   "metadata": {},
   "source": [
    "<div class=\"row\">\n",
    "  <div class=\"column\">\n",
    "    <img src=\"./img/logo-onera.png\" width=\"200\">\n",
    "  </div>\n",
    "  <div class=\"column\">\n",
    "    <img src=\"./img/logo-ISAE_SUPAERO.png\" width=\"200\">\n",
    "  </div>\n",
    "</div>"
   ]
  },
  {
   "cell_type": "markdown",
   "metadata": {},
   "source": [
    "# Custom Modules Management\n",
    "\n",
    "This tutorial aims to guide you in the management of your custom modules and in the resolution of a simple problem using FAST-OAD. Complementary information can be found in the [documentation](https://fast-oad.readthedocs.io/en/latest/documentation/custom_modules/index.html).\n",
    "\n",
    "The problem under consideration consists in a cantilever beam of length **L** with a rectangular section of height **h** and width **l**. A force **F** is applied at the tip of the beam that also undergoes its proper weight homogeneously distributed **w**. \n",
    "\n",
    "The objectives of this tutorial will be to create and call custom modules through FAST-OAD to solve the following problems:\n",
    "* For **F** = 1000N, **L** = 2.0m, **l** = 0.3m: Find the height **h** that leads to a displacement of 0.02m considering an aluminium beam. \n",
    "* For **F** = 1e5N, **L** = 10.0m, **l** = 0.3m: Find the height **h** so that the maximum normal stress within the beam does not exceed the aluminium yield stress (450e6 Pa)."
   ]
  },
  {
   "cell_type": "markdown",
   "metadata": {},
   "source": [
    "<div class=\"row\">\n",
    "  <div class=\"column\">\n",
    "    <img src=\"./img/problem_description.png\" width=\"600\">\n",
    "  </div>\n",
    "</div>"
   ]
  },
  {
   "cell_type": "markdown",
   "metadata": {},
   "source": [
    "## Imports"
   ]
  },
  {
   "cell_type": "code",
   "execution_count": 1,
   "metadata": {},
   "outputs": [],
   "source": [
    "import os.path as pth\n",
    "import logging\n",
    "import fastoad.api as oad"
   ]
  },
  {
   "cell_type": "markdown",
   "metadata": {},
   "source": [
    "## Directories and files definition "
   ]
  },
  {
   "cell_type": "code",
   "execution_count": 2,
   "metadata": {},
   "outputs": [],
   "source": [
    "DATA_FOLDER = \"data\"\n",
    "\n",
    "WORK_FOLDER = \"workdir\"\n",
    "\n",
    "CONFIGURATION_FILE_NAME = pth.join(DATA_FOLDER, \"beam_problem.yml\")\n",
    "\n",
    "CUSTOM_MODULES_FOLDER_PATH = \"./modules\"\n",
    "\n",
    "logging.basicConfig(level=logging.INFO, format=\"%(levelname)-8s: %(message)s\")"
   ]
  },
  {
   "cell_type": "markdown",
   "metadata": {},
   "source": [
    "## 1. Custom Modules\n",
    "\n",
    "### 1.1. Modules Creation and Registration\n",
    "\n",
    "The following modules are created: [section_properties.py](./modules/section_properties.py), [weight.py](./modules/weight.py), [displacements.py](./modules/displacements.py), [stresses.py](./modules/stresses.py). They respectively compute: \n",
    "* The height of the beam for a given moment of inertia and width. \n",
    "* The linear weight **w** from material density and section dimensions. \n",
    "* The necessary moment of inertia to reach a given displacement. \n",
    "* The necessary moment of inertia not to overcome the material yield stress. \n",
    "\n",
    "As you may notice, each module is registered using the decorator `@oad.RegisterOpenMDAOSystem` and a unique id. \n",
    "\n",
    "An example is provided for the geometry module that computes the height of the beam for a given moment of inertia and a given width: \n",
    "\n",
    "> ``` python\n",
    "> import numpy as np\n",
    "> import openmdao.api as om\n",
    ">\n",
    "> import fastoad.api as oad\n",
    ">\n",
    ">\n",
    "> @oad.RegisterOpenMDAOSystem(\"tutorial.beam_problem.geometry\")\n",
    "> class RectangularSection(om.ExplicitComponent):\n",
    ">     \"\"\"\n",
    ">     Computes section properties of a beam given width and height.\n",
    ">     \"\"\"\n",
    ">\n",
    ">     def setup(self):\n",
    ">\n",
    ">         self.add_input(\"data:geometry:l\", val=np.nan, units=\"m\")\n",
    ">         self.add_input(\"data:geometry:Ixx\", val=np.nan, units=\"m ** 4\")\n",
    ">         self.add_output(\"data:geometry:h\", val=0.01, units=\"m\")\n",
    ">\n",
    ">\n",
    ">     def setup_partials(self):\n",
    ">\n",
    ">         self.declare_partials(\"*\", \"*\", method=\"fd\")\n",
    ">\n",
    ">     def compute(self, inputs, outputs):\n",
    ">         l = inputs[\"data:geometry:l\"]\n",
    ">         I_xx = inputs[\"data:geometry:Ixx\"]\n",
    ">\n",
    ">         outputs[\"data:geometry:h\"] = (12 * I_xx / l) ** (1 / 3)\n",
    "> ```"
   ]
  },
  {
   "cell_type": "markdown",
   "metadata": {},
   "source": [
    "### 1.2. Check Registration \n",
    "\n",
    "To check that your modules are properly registered, call the `list_modules` function with your custom modules folder(s) path(s) as an argument and verify that your modules correctly appear in the list."
   ]
  },
  {
   "cell_type": "code",
   "execution_count": 3,
   "metadata": {},
   "outputs": [
    {
     "name": "stderr",
     "output_type": "stream",
     "text": [
      "INFO    : Loaded variable descriptions in ./modules\n",
      "INFO    : Loading FAST-OAD plugin bundled\n",
      "INFO    : Loading bundles from fastoad.models\n",
      "INFO    : Installed bundle fastoad.models.performances.mission.mission_definition.mission_builder.structure_builders (ID 17 )\n",
      "INFO    : Installed bundle fastoad.models.performances.mission.segments.registered.takeoff.takeoff (ID 44 )\n",
      "INFO    : Installed bundle fastoad.models.performances.mission.mission_definition.mission_builder.__init__ (ID 18 )\n",
      "INFO    : Installed bundle fastoad.models.performances.mission.segments.registered.takeoff.__init__ (ID 45 )\n",
      "INFO    : Installed bundle fastoad.models.performances.mission.mission_definition.exceptions (ID 13 )\n",
      "INFO    : Installed bundle fastoad.models.performances.mission.mission_definition.resources.__init__ (ID 19 )\n",
      "INFO    : Installed bundle fastoad.models.performances.mission.segments.base (ID 33 )\n",
      "INFO    : Installed bundle fastoad.models.performances.mission.segments.registered.transition (ID 47 )\n",
      "INFO    : Installed bundle fastoad.models.performances.mission.openmdao.base (ID 22 )\n",
      "INFO    : Installed bundle fastoad.models.performances.mission.segments.registered.altitude_change (ID 35 )\n",
      "INFO    : Installed bundle fastoad.models.performances.mission.openmdao.mission_wrapper (ID 26 )\n",
      "INFO    : Installed bundle fastoad.models.performances.mission.mission_definition.mission_builder.constants (ID 14 )\n",
      "INFO    : Installed bundle fastoad.models.performances.mission.mission_definition.schema (ID 20 )\n",
      "INFO    : Installed bundle fastoad.models.performances.mission.segments.registered.taxi (ID 46 )\n",
      "INFO    : Installed bundle fastoad.models.performances.mission.segments.macro_segments (ID 34 )\n",
      "INFO    : Installed bundle fastoad.models.performances.mission.segments.registered.__init__ (ID 48 )\n",
      "INFO    : Installed bundle fastoad.models.performances.mission.base (ID 10 )\n",
      "INFO    : Installed bundle fastoad.models.performances.mission.mission_definition.__init__ (ID 21 )\n",
      "INFO    : Installed bundle fastoad.models.performances.mission.openmdao.resources.__init__ (ID 28 )\n",
      "INFO    : Installed bundle fastoad.models.performances.mission.segments.registered.cruise (ID 36 )\n",
      "INFO    : Installed bundle fastoad.models.performances.mission.exceptions (ID 11 )\n",
      "INFO    : Installed bundle fastoad.models.performances.mission.segments.time_step_base (ID 49 )\n",
      "INFO    : Installed bundle fastoad.models.performances.mission.segments.registered.ground_speed_change (ID 37 )\n",
      "INFO    : Installed bundle fastoad.models.performances.mission.util (ID 51 )\n",
      "INFO    : Installed bundle fastoad.models.performances.mission.segments.registered.mass_input (ID 39 )\n",
      "INFO    : Installed bundle fastoad.models.performances.mission.segments.__init__ (ID 50 )\n",
      "INFO    : Installed bundle fastoad.models.performances.mission.openmdao.__init__ (ID 29 )\n",
      "INFO    : Installed bundle fastoad.models.performances.mission.segments.registered.hold (ID 38 )\n",
      "INFO    : Installed bundle fastoad.models.performances.mission.polar (ID 30 )\n",
      "INFO    : Installed bundle fastoad.models.performances.mission.__init__ (ID 52 )\n",
      "INFO    : Installed bundle fastoad.models.performances.mission.openmdao.link_mtow (ID 23 )\n",
      "INFO    : Installed bundle fastoad.models.performances.mission.segments.registered.speed_change (ID 40 )\n",
      "INFO    : Installed bundle fastoad.models.performances.mission.openmdao.mission (ID 24 )\n",
      "INFO    : Installed bundle fastoad.models.performances.__init__ (ID 53 )\n",
      "INFO    : Installed bundle fastoad.models.performances.mission.mission (ID 12 )\n",
      "INFO    : Installed bundle fastoad.models.__init__ (ID 54 )\n",
      "INFO    : Installed bundle fastoad.models.performances.mission.segments.registered.start (ID 41 )\n",
      "INFO    : Installed bundle fastoad.models.performances.mission.openmdao.mission_run (ID 25 )\n",
      "INFO    : Installed bundle fastoad.models.performances.mission.routes (ID 32 )\n",
      "INFO    : Installed bundle fastoad.models.performances.mission.openmdao.payload_range (ID 27 )\n",
      "INFO    : Installed bundle fastoad.models.performances.mission.segments.registered.takeoff.rotation (ID 43 )\n",
      "INFO    : Installed bundle fastoad.models.performances.mission.mission_definition.mission_builder.mission_builder (ID 16 )\n",
      "INFO    : Installed bundle fastoad.models.performances.mission.segments.registered.takeoff.end_of_takeoff (ID 42 )\n",
      "INFO    : Installed bundle fastoad.models.performances.mission.polar_modifier (ID 31 )\n",
      "INFO    : Installed bundle fastoad.models.performances.mission.mission_definition.mission_builder.input_definition (ID 15 )\n",
      "INFO    : Loaded variable descriptions in fastoad.models\n",
      "INFO    : Loading FAST-OAD plugin cs25\n",
      "INFO    : Loading bundles from fastoad_cs25.models\n",
      "INFO    : Installed bundle fastoad_cs25.models.geometry.geom_components.wing.components.compute_sweep_wing (ID 118 )\n",
      "INFO    : Installed bundle fastoad_cs25.models.weight.weight (ID 212 )\n",
      "INFO    : Installed bundle fastoad_cs25.models.aerodynamics.components.__init__ (ID 80 )\n",
      "INFO    : Installed bundle fastoad_cs25.models.weight.__init__ (ID 213 )\n",
      "INFO    : Installed bundle fastoad_cs25.models.geometry.geom_components.ht.compute_horizontal_tail (ID 101 )\n",
      "INFO    : Installed bundle fastoad_cs25.models.geometry.geom_components.wing.components.compute_toc_wing (ID 119 )\n",
      "INFO    : Installed bundle fastoad_cs25.models.weight.mass_breakdown.b_propulsion.b2_fuel_lines_weight (ID 182 )\n",
      "INFO    : Installed bundle fastoad_cs25.models.__init__ (ID 214 )\n",
      "INFO    : Installed bundle fastoad_cs25.models.aerodynamics.components.utils.__init__ (ID 79 )\n",
      "INFO    : Installed bundle fastoad_cs25.models.weight.mass_breakdown.b_propulsion.b3_unconsumables_weight (ID 183 )\n",
      "INFO    : Installed bundle fastoad_cs25.models.aerodynamics.external.xfoil.xfoil_polar (ID 84 )\n",
      "INFO    : Installed bundle fastoad_cs25.models.weight.mass_breakdown.b_propulsion.constants (ID 184 )\n",
      "INFO    : Installed bundle fastoad_cs25.models.aerodynamics.components.resources.__init__ (ID 76 )\n",
      "INFO    : Installed bundle fastoad_cs25.models.aerodynamics.__init__ (ID 87 )\n",
      "INFO    : Installed bundle fastoad_cs25.models.geometry.geom_components.wing.components.compute_wet_area_wing (ID 120 )\n",
      "INFO    : Installed bundle fastoad_cs25.models.propulsion.fuel_propulsion.rubber_engine.exceptions (ID 143 )\n",
      "INFO    : Installed bundle fastoad_cs25.models.aerodynamics.external.xfoil.__init__ (ID 85 )\n",
      "INFO    : Installed bundle fastoad_cs25.models.geometry.geom_components.ht.__init__ (ID 102 )\n",
      "INFO    : Installed bundle fastoad_cs25.models.propulsion.fuel_propulsion.rubber_engine.__init__ (ID 146 )\n",
      "INFO    : Installed bundle fastoad_cs25.models.propulsion.fuel_propulsion.rubber_engine.rubber_engine (ID 145 )\n",
      "INFO    : Installed bundle fastoad_cs25.models.weight.mass_breakdown.b_propulsion.sum (ID 185 )\n",
      "INFO    : Installed bundle fastoad_cs25.models.geometry.geom_components.nacelle_pylons.compute_nacelle_pylons (ID 103 )\n",
      "INFO    : Installed bundle fastoad_cs25.models.propulsion.fuel_propulsion.rubber_engine.openmdao (ID 144 )\n",
      "INFO    : Installed bundle fastoad_cs25.models.aerodynamics.constants (ID 81 )\n",
      "INFO    : Installed bundle fastoad_cs25.models.aerodynamics.external.__init__ (ID 86 )\n",
      "INFO    : Installed bundle fastoad_cs25.models.weight.mass_breakdown.b_propulsion.__init__ (ID 186 )\n",
      "INFO    : Installed bundle fastoad_cs25.models.geometry.geom_components.wing.components.compute_x_wing (ID 121 )\n",
      "INFO    : Installed bundle fastoad_cs25.models.propulsion.__init__ (ID 148 )\n",
      "INFO    : Installed bundle fastoad_cs25.models.constants (ID 88 )\n",
      "INFO    : Installed bundle fastoad_cs25.models.geometry.geom_components.nacelle_pylons.__init__ (ID 104 )\n",
      "INFO    : Installed bundle fastoad_cs25.models.propulsion.fuel_propulsion.__init__ (ID 147 )\n",
      "INFO    : Installed bundle fastoad_cs25.models.geometry.geom_components.wing.components.compute_y_wing (ID 122 )\n",
      "INFO    : Installed bundle fastoad_cs25.models.weight.mass_breakdown.constants (ID 187 )\n",
      "INFO    : Installed bundle fastoad_cs25.models.weight.mass_breakdown.c_systems.c1_power_systems_weight (ID 189 )\n",
      "INFO    : Installed bundle fastoad_cs25.models.aerodynamics.components.oswald (ID 75 )\n",
      "INFO    : Installed bundle fastoad_cs25.models.geometry.geom_components.wing.components.__init__ (ID 123 )\n",
      "INFO    : Installed bundle fastoad_cs25.models.weight.cg.cg_components.compute_cg_ratio_aft (ID 152 )\n",
      "INFO    : Installed bundle fastoad_cs25.models.weight.mass_breakdown.cs25 (ID 188 )\n",
      "INFO    : Installed bundle fastoad_cs25.models.aerodynamics.aerodynamics_low_speed (ID 57 )\n",
      "INFO    : Installed bundle fastoad_cs25.models.aerodynamics.components.utils.cd0_lifting_surface (ID 77 )\n",
      "INFO    : Installed bundle fastoad_cs25.models.weight.cg.cg (ID 149 )\n",
      "INFO    : Installed bundle fastoad_cs25.models.aerodynamics.components.utils.friction_drag (ID 78 )\n",
      "INFO    : Installed bundle fastoad_cs25.models.geometry.geom_components.wing.compute_wing (ID 124 )\n",
      "INFO    : Installed bundle fastoad_cs25.models.weight.cg.cg_components.compute_cg_tanks (ID 153 )\n",
      "INFO    : Installed bundle fastoad_cs25.models.weight.cg.cg_components.compute_cg_control_surfaces (ID 150 )\n",
      "INFO    : Installed bundle fastoad_cs25.models.geometry.geom_components.fuselage.compute_cnbeta_fuselage (ID 93 )\n",
      "INFO    : Installed bundle fastoad_cs25.models.geometry.geom_components.vt.components.compute_vt_chords (ID 105 )\n",
      "INFO    : Installed bundle fastoad_cs25.models.aerodynamics.aerodynamics_takeoff (ID 58 )\n",
      "INFO    : Installed bundle fastoad_cs25.models.weight.cg.cg_components.compute_cg_wing (ID 154 )\n",
      "INFO    : Installed bundle fastoad_cs25.models.geometry.geom_components.fuselage.__init__ (ID 95 )\n",
      "INFO    : Installed bundle fastoad_cs25.models.geometry.geom_components.wing.__init__ (ID 125 )\n",
      "INFO    : Installed bundle fastoad_cs25.models.aerodynamics.components.cd0 (ID 59 )\n",
      "INFO    : Installed bundle fastoad_cs25.models.geometry.geom_components.fuselage.compute_fuselage (ID 94 )\n",
      "INFO    : Installed bundle fastoad_cs25.models.geometry.geom_components.__init__ (ID 126 )\n",
      "INFO    : Installed bundle fastoad_cs25.models.geometry.geom_components.vt.components.compute_vt_clalpha (ID 106 )\n",
      "INFO    : Installed bundle fastoad_cs25.models.geometry.geom_components.compute_wetted_area (ID 92 )\n",
      "INFO    : Installed bundle fastoad_cs25.models.weight.cg.cg_components.compute_global_cg (ID 155 )\n",
      "INFO    : Installed bundle fastoad_cs25.models.geometry.geometry (ID 91 )\n",
      "INFO    : Installed bundle fastoad_cs25.models.geometry.profiles.profile (ID 127 )\n",
      "INFO    : Installed bundle fastoad_cs25.models.weight.cg.cg_components.compute_max_cg_ratio (ID 157 )\n",
      "INFO    : Installed bundle fastoad_cs25.models.weight.mass_breakdown.c_systems.c2_life_support_systems_weight (ID 190 )\n",
      "INFO    : Installed bundle fastoad_cs25.models.geometry.__init__ (ID 132 )\n",
      "INFO    : Installed bundle fastoad_cs25.models.weight.mass_breakdown.c_systems.c3_navigation_systems_weight (ID 191 )\n",
      "INFO    : Installed bundle fastoad_cs25.models.aerodynamics.components.cd0_fuselage (ID 60 )\n",
      "INFO    : Installed bundle fastoad_cs25.models.geometry.profiles.profile_getter (ID 128 )\n",
      "INFO    : Installed bundle fastoad_cs25.models.weight.mass_breakdown.c_systems.c4_transmissions_systems_weight (ID 192 )\n",
      "INFO    : Installed bundle fastoad_cs25.models.geometry.geom_components.ht.components.compute_ht_cl_alpha (ID 97 )\n",
      "INFO    : Installed bundle fastoad_cs25.models.weight.cg.cg_components.compute_cg_others (ID 151 )\n",
      "INFO    : Installed bundle fastoad_cs25.models.weight.mass_breakdown.c_systems.c5_fixed_operational_systems_weight (ID 193 )\n",
      "INFO    : Installed bundle fastoad_cs25.models.geometry.geom_components.ht.components.compute_ht_mac (ID 98 )\n",
      "INFO    : Installed bundle fastoad_cs25.models.geometry.profiles.resources.__init__ (ID 129 )\n",
      "INFO    : Installed bundle fastoad_cs25.models.weight.mass_breakdown.c_systems.c6_flight_kit_weight (ID 194 )\n",
      "INFO    : Installed bundle fastoad_cs25.models.aerodynamics.external.xfoil.resources.__init__ (ID 82 )\n",
      "INFO    : Installed bundle fastoad_cs25.models.geometry.geom_components.ht.components.compute_ht_sweep (ID 99 )\n",
      "INFO    : Installed bundle fastoad_cs25.models.geometry.geom_components.ht.components.__init__ (ID 100 )\n",
      "INFO    : Installed bundle fastoad_cs25.models.geometry.profiles.__init__ (ID 130 )\n",
      "INFO    : Installed bundle fastoad_cs25.models.weight.mass_breakdown.c_systems.constants (ID 195 )\n",
      "INFO    : Installed bundle fastoad_cs25.models.aerodynamics.external.xfoil.xfoil699.__init__ (ID 83 )\n",
      "INFO    : Installed bundle fastoad_cs25.models.aerodynamics.components.cd0_ht (ID 61 )\n",
      "INFO    : Installed bundle fastoad_cs25.models.weight.cg.cg_components.compute_ht_cg (ID 156 )\n",
      "INFO    : Installed bundle fastoad_cs25.models.aerodynamics.components.cd_trim (ID 67 )\n",
      "INFO    : Installed bundle fastoad_cs25.models.weight.cg.cg_components.load_cases.compute_cg_loadcase1 (ID 159 )\n",
      "INFO    : Installed bundle fastoad_cs25.models.geometry.geom_components.ht.components.compute_ht_chords (ID 96 )\n",
      "INFO    : Installed bundle fastoad_cs25.models.weight.mass_breakdown.c_systems.sum (ID 196 )\n",
      "INFO    : Installed bundle fastoad_cs25.models.geometry.wing_global_positions (ID 131 )\n",
      "INFO    : Installed bundle fastoad_cs25.models.weight.cg.cg_components.update_mlg (ID 166 )\n",
      "INFO    : Installed bundle fastoad_cs25.models.weight.mass_breakdown.d_furniture.d1_cargo_configuration_weight (ID 199 )\n",
      "INFO    : Installed bundle fastoad_cs25.models.handling_qualities.tail_sizing.compute_ht_area (ID 134 )\n",
      "INFO    : Installed bundle fastoad_cs25.models.weight.cg.constants (ID 168 )\n",
      "INFO    : Installed bundle fastoad_cs25.models.weight.mass_breakdown.d_furniture.d2_passenger_seats_weight (ID 200 )\n",
      "INFO    : Installed bundle fastoad_cs25.models.weight.cg.cg_components.__init__ (ID 167 )\n",
      "INFO    : Installed bundle fastoad_cs25.models.weight.mass_breakdown.d_furniture.d3_food_water_weight (ID 201 )\n",
      "INFO    : Installed bundle fastoad_cs25.models.aerodynamics.components.compute_alpha (ID 68 )\n",
      "INFO    : Installed bundle fastoad_cs25.models.handling_qualities.compute_static_margin (ID 133 )\n",
      "INFO    : Installed bundle fastoad_cs25.models.weight.cg.cg_components.compute_vt_cg (ID 158 )\n",
      "INFO    : Installed bundle fastoad_cs25.models.weight.mass_breakdown.d_furniture.d4_security_kit_weight (ID 202 )\n",
      "INFO    : Installed bundle fastoad_cs25.models.aerodynamics.components.compute_max_cl_landing (ID 70 )\n",
      "INFO    : Installed bundle fastoad_cs25.models.weight.cg.__init__ (ID 169 )\n",
      "INFO    : Installed bundle fastoad_cs25.models.weight.mass_breakdown.d_furniture.d5_toilets_weight (ID 203 )\n",
      "INFO    : Installed bundle fastoad_cs25.models.aerodynamics.components.compute_cl_alpha (ID 69 )\n",
      "INFO    : Installed bundle fastoad_cs25.models.weight.constants (ID 170 )\n",
      "INFO    : Installed bundle fastoad_cs25.models.handling_qualities.tail_sizing.compute_tail_areas (ID 135 )\n",
      "INFO    : Installed bundle fastoad_cs25.models.aerodynamics.components.cd0_nacelles_pylons (ID 62 )\n",
      "INFO    : Installed bundle fastoad_cs25.models.geometry.geom_components.vt.components.compute_vt_distance (ID 107 )\n",
      "INFO    : Installed bundle fastoad_cs25.models.weight.cg.cg_components.load_cases.compute_cg_loadcase2 (ID 160 )\n",
      "INFO    : Installed bundle fastoad_cs25.models.weight.mass_breakdown.d_furniture.sum (ID 204 )\n",
      "INFO    : Installed bundle fastoad_cs25.models.geometry.geom_components.vt.components.compute_vt_mac (ID 108 )\n",
      "INFO    : Installed bundle fastoad_cs25.models.geometry.geom_components.vt.components.compute_vt_sweep (ID 109 )\n",
      "INFO    : Installed bundle fastoad_cs25.models.weight.mass_breakdown.c_systems.__init__ (ID 197 )\n",
      "INFO    : Installed bundle fastoad_cs25.models.aerodynamics.aerodynamics_high_speed (ID 55 )\n",
      "INFO    : Installed bundle fastoad_cs25.models.geometry.geom_components.vt.components.__init__ (ID 110 )\n",
      "INFO    : Installed bundle fastoad_cs25.models.weight.mass_breakdown.a_airframe.a2_fuselage_weight (ID 172 )\n",
      "INFO    : Installed bundle fastoad_cs25.models.weight.mass_breakdown.d_furniture.__init__ (ID 205 )\n",
      "INFO    : Installed bundle fastoad_cs25.models.weight.mass_breakdown.a_airframe.a3_empennage_weight (ID 173 )\n",
      "INFO    : Installed bundle fastoad_cs25.models.geometry.geom_components.vt.compute_vertical_tail (ID 111 )\n",
      "INFO    : Installed bundle fastoad_cs25.models.weight.mass_breakdown.a_airframe.a4_flight_control_weight (ID 174 )\n",
      "INFO    : Installed bundle fastoad_cs25.models.handling_qualities.tail_sizing.compute_vt_area (ID 136 )\n",
      "INFO    : Installed bundle fastoad_cs25.models.weight.mass_breakdown.a_airframe.a5_landing_gear_weight (ID 175 )\n",
      "INFO    : Installed bundle fastoad_cs25.models.weight.mass_breakdown.a_airframe.a1_wing_weight (ID 171 )\n",
      "INFO    : Installed bundle fastoad_cs25.models.weight.mass_breakdown.a_airframe.a6_pylons_weight (ID 176 )\n",
      "INFO    : Installed bundle fastoad_cs25.models.weight.mass_breakdown.d_furniture.constants (ID 198 )\n",
      "INFO    : Installed bundle fastoad_cs25.models.aerodynamics.components.compute_polar (ID 71 )\n",
      "INFO    : Installed bundle fastoad_cs25.models.weight.mass_breakdown.a_airframe.a7_paint_weight (ID 177 )\n",
      "INFO    : Installed bundle fastoad_cs25.models.geometry.constants (ID 90 )\n",
      "INFO    : Installed bundle fastoad_cs25.models.geometry.geom_components.vt.__init__ (ID 112 )\n",
      "INFO    : Installed bundle fastoad_cs25.models.weight.mass_breakdown.a_airframe.constants (ID 178 )\n",
      "INFO    : Installed bundle fastoad_cs25.models.handling_qualities.tail_sizing.__init__ (ID 137 )\n",
      "INFO    : Installed bundle fastoad_cs25.models.weight.cg.cg_components.load_cases.compute_cg_loadcase3 (ID 161 )\n",
      "INFO    : Installed bundle fastoad_cs25.models.weight.mass_breakdown.e_crew.crew_weight (ID 206 )\n",
      "INFO    : Installed bundle fastoad_cs25.models.aerodynamics.components.compute_reynolds (ID 72 )\n",
      "INFO    : Installed bundle fastoad_cs25.models.aerodynamics.components.cd0_total (ID 63 )\n",
      "INFO    : Installed bundle fastoad_cs25.models.geometry.geom_components.wing.components.compute_b_50 (ID 113 )\n",
      "INFO    : Installed bundle fastoad_cs25.models.weight.mass_breakdown.a_airframe.sum (ID 179 )\n",
      "INFO    : Installed bundle fastoad_cs25.models.weight.mass_breakdown.e_crew.__init__ (ID 207 )\n",
      "INFO    : Installed bundle fastoad_cs25.models.aerodynamics.aerodynamics_landing (ID 56 )\n",
      "INFO    : Installed bundle fastoad_cs25.models.aerodynamics.components.high_lift_aero (ID 73 )\n",
      "INFO    : Installed bundle fastoad_cs25.models.handling_qualities.__init__ (ID 138 )\n",
      "INFO    : Installed bundle fastoad_cs25.models.weight.cg.cg_components.load_cases.compute_cg_loadcase4 (ID 162 )\n",
      "INFO    : Installed bundle fastoad_cs25.models.weight.mass_breakdown.a_airframe.__init__ (ID 180 )\n",
      "INFO    : Installed bundle fastoad_cs25.models.aerodynamics.components.cd0_vt (ID 64 )\n",
      "INFO    : Installed bundle fastoad_cs25.models.loops.compute_wing_area (ID 139 )\n",
      "INFO    : Installed bundle fastoad_cs25.models.geometry.geom_components.wing.components.compute_l1_l4 (ID 114 )\n",
      "INFO    : Installed bundle fastoad_cs25.models.loops.__init__ (ID 141 )\n",
      "INFO    : Installed bundle fastoad_cs25.models.weight.mass_breakdown.mass_breakdown (ID 208 )\n",
      "INFO    : Installed bundle fastoad_cs25.models.aerodynamics.components.cd0_wing (ID 65 )\n",
      "INFO    : Installed bundle fastoad_cs25.models.weight.cg.cg_components.load_cases.compute_cg_loadcases (ID 163 )\n",
      "INFO    : Installed bundle fastoad_cs25.models.weight.mass_breakdown.b_propulsion.b1_engine_weight (ID 181 )\n",
      "INFO    : Installed bundle fastoad_cs25.models.geometry.geom_components.wing.components.compute_l2_l3 (ID 115 )\n",
      "INFO    : Installed bundle fastoad_cs25.models.loops.compute_wing_position (ID 140 )\n",
      "INFO    : Installed bundle fastoad_cs25.models.weight.cg.cg_components.load_cases.compute_cg_loadcase_base (ID 164 )\n",
      "INFO    : Installed bundle fastoad_cs25.models.aerodynamics.components.cd_compressibility (ID 66 )\n",
      "INFO    : Installed bundle fastoad_cs25.models.geometry.compute_aero_center (ID 89 )\n",
      "INFO    : Installed bundle fastoad_cs25.models.geometry.geom_components.wing.components.compute_mac_wing (ID 116 )\n",
      "INFO    : Installed bundle fastoad_cs25.models.propulsion.fuel_propulsion.rubber_engine.constants (ID 142 )\n",
      "INFO    : Installed bundle fastoad_cs25.models.weight.cg.cg_components.load_cases.__init__ (ID 165 )\n",
      "INFO    : Installed bundle fastoad_cs25.models.weight.mass_breakdown.payload (ID 209 )\n",
      "INFO    : Installed bundle fastoad_cs25.models.weight.mass_breakdown.update_mlw_and_mzfw (ID 210 )\n",
      "INFO    : Installed bundle fastoad_cs25.models.aerodynamics.components.initialize_cl (ID 74 )\n",
      "INFO    : Installed bundle fastoad_cs25.models.geometry.geom_components.wing.components.compute_mfw (ID 117 )\n",
      "INFO    : Installed bundle fastoad_cs25.models.weight.mass_breakdown.__init__ (ID 211 )\n",
      "INFO    : Loaded variable descriptions in fastoad_cs25.models\n",
      "INFO    : Loading bundles from ./modules\n",
      "INFO    : Loaded variable descriptions in modules\n",
      "INFO    : Loaded variable descriptions in modules\n",
      "INFO    : Loaded variable descriptions in modules\n",
      "INFO    : Loaded variable descriptions in modules\n",
      "INFO    : Installed bundle modules.weight (ID 219 )\n",
      "INFO    : Installed bundle modules (ID 215 )\n",
      "INFO    : Installed bundle modules.displacements (ID 216 )\n",
      "INFO    : Installed bundle modules.section_properties (ID 217 )\n",
      "INFO    : Installed bundle modules.stresses (ID 218 )\n"
     ]
    },
    {
     "data": {
      "text/html": [
       "<table>\n",
       "<tbody>\n",
       "<tr><td>AVAILABLE MODULE IDENTIFIERS            </td><td>MODULE PATH                                                                                                                                          </td></tr>\n",
       "<tr><td>fastoad.aerodynamics.highspeed.legacy   </td><td>C:\\Users\\f.pollet.ISAE-SUPAERO\\AppData\\Roaming\\Python\\Python38\\site-packages\\fastoad_cs25\\models\\aerodynamics\\aerodynamics_high_speed.py             </td></tr>\n",
       "<tr><td>fastoad.aerodynamics.landing.legacy     </td><td>C:\\Users\\f.pollet.ISAE-SUPAERO\\AppData\\Roaming\\Python\\Python38\\site-packages\\fastoad_cs25\\models\\aerodynamics\\aerodynamics_landing.py                </td></tr>\n",
       "<tr><td>fastoad.aerodynamics.lowspeed.legacy    </td><td>C:\\Users\\f.pollet.ISAE-SUPAERO\\AppData\\Roaming\\Python\\Python38\\site-packages\\fastoad_cs25\\models\\aerodynamics\\aerodynamics_low_speed.py              </td></tr>\n",
       "<tr><td>fastoad.aerodynamics.takeoff.legacy     </td><td>C:\\Users\\f.pollet.ISAE-SUPAERO\\AppData\\Roaming\\Python\\Python38\\site-packages\\fastoad_cs25\\models\\aerodynamics\\aerodynamics_takeoff.py                </td></tr>\n",
       "<tr><td>fastoad.geometry.global_chord_positions </td><td>C:\\Users\\f.pollet.ISAE-SUPAERO\\AppData\\Roaming\\Python\\Python38\\site-packages\\fastoad_cs25\\models\\geometry\\wing_global_positions.py                   </td></tr>\n",
       "<tr><td>fastoad.geometry.legacy                 </td><td>C:\\Users\\f.pollet.ISAE-SUPAERO\\AppData\\Roaming\\Python\\Python38\\site-packages\\fastoad_cs25\\models\\geometry\\geometry.py                                </td></tr>\n",
       "<tr><td>fastoad.handling_qualities.static_margin</td><td>C:\\Users\\f.pollet.ISAE-SUPAERO\\AppData\\Roaming\\Python\\Python38\\site-packages\\fastoad_cs25\\models\\handling_qualities\\compute_static_margin.py         </td></tr>\n",
       "<tr><td>fastoad.handling_qualities.tail_sizing  </td><td>C:\\Users\\f.pollet.ISAE-SUPAERO\\AppData\\Roaming\\Python\\Python38\\site-packages\\fastoad_cs25\\models\\handling_qualities\\tail_sizing\\compute_tail_areas.py</td></tr>\n",
       "<tr><td>fastoad.loop.wing_area                  </td><td>C:\\Users\\f.pollet.ISAE-SUPAERO\\AppData\\Roaming\\Python\\Python38\\site-packages\\fastoad_cs25\\models\\loops\\compute_wing_area.py                          </td></tr>\n",
       "<tr><td>fastoad.loop.wing_position              </td><td>C:\\Users\\f.pollet.ISAE-SUPAERO\\AppData\\Roaming\\Python\\Python38\\site-packages\\fastoad_cs25\\models\\loops\\compute_wing_position.py                      </td></tr>\n",
       "<tr><td>fastoad.mass_performances.compute_MTOW  </td><td>C:\\Users\\f.pollet.ISAE-SUPAERO\\AppData\\Roaming\\Python\\Python38\\site-packages\\fastoad\\models\\performances\\mission\\openmdao\\link_mtow.py               </td></tr>\n",
       "<tr><td>fastoad.performances.mission            </td><td>C:\\Users\\f.pollet.ISAE-SUPAERO\\AppData\\Roaming\\Python\\Python38\\site-packages\\fastoad\\models\\performances\\mission\\openmdao\\mission.py                 </td></tr>\n",
       "<tr><td>fastoad.performances.payload_range      </td><td>C:\\Users\\f.pollet.ISAE-SUPAERO\\AppData\\Roaming\\Python\\Python38\\site-packages\\fastoad\\models\\performances\\mission\\openmdao\\payload_range.py           </td></tr>\n",
       "<tr><td>fastoad.weight.legacy                   </td><td>C:\\Users\\f.pollet.ISAE-SUPAERO\\AppData\\Roaming\\Python\\Python38\\site-packages\\fastoad_cs25\\models\\weight\\weight.py                                    </td></tr>\n",
       "<tr><td>tutorial.beam_problem.disp              </td><td>D:\\THESE\\Tools\\FAST-OAD-fork\\FAST-OAD\\src\\fastoad\\notebooks\\01_Quick_start\\modules\\displacements.py                                                  </td></tr>\n",
       "<tr><td>tutorial.beam_problem.geometry          </td><td>D:\\THESE\\Tools\\FAST-OAD-fork\\FAST-OAD\\src\\fastoad\\notebooks\\01_Quick_start\\modules\\section_properties.py                                             </td></tr>\n",
       "<tr><td>tutorial.beam_problem.stresses          </td><td>D:\\THESE\\Tools\\FAST-OAD-fork\\FAST-OAD\\src\\fastoad\\notebooks\\01_Quick_start\\modules\\stresses.py                                                       </td></tr>\n",
       "<tr><td>tutorial.beam_problem.weight            </td><td>D:\\THESE\\Tools\\FAST-OAD-fork\\FAST-OAD\\src\\fastoad\\notebooks\\01_Quick_start\\modules\\weight.py                                                         </td></tr>\n",
       "<tr><td>AVAILABLE PROPULSION WRAPPER IDENTIFIERS</td><td>MODULE PATH                                                                                                                                          </td></tr>\n",
       "<tr><td>fastoad.wrapper.propulsion.rubber_engine</td><td>C:\\Users\\f.pollet.ISAE-SUPAERO\\AppData\\Roaming\\Python\\Python38\\site-packages\\fastoad_cs25\\models\\propulsion\\fuel_propulsion\\rubber_engine\\openmdao.py</td></tr>\n",
       "</tbody>\n",
       "</table>"
      ],
      "text/plain": [
       "<IPython.core.display.HTML object>"
      ]
     },
     "metadata": {},
     "output_type": "display_data"
    }
   ],
   "source": [
    "oad.list_modules(CUSTOM_MODULES_FOLDER_PATH)"
   ]
  },
  {
   "cell_type": "markdown",
   "metadata": {},
   "source": [
    "## 2. Configuration file\n"
   ]
  },
  {
   "cell_type": "markdown",
   "metadata": {},
   "source": [
    "Now you are sure your custom modules are properly registered, you can complete the YAML configuration file. \n",
    "\n",
    "First, in the section `module_folders` indicate the path(s) toward your custom modules folder(s): \n",
    "\n",
    "*Note: Absolute or relative path with respect to configuration file location.*\n",
    "\n",
    ">```yaml\n",
    ">title: Tutorial Beam Problem\n",
    ">\n",
    "># List of folder paths where user added custom registered OpenMDAO components\n",
    ">module_folders:\n",
    ">    - ../modules\n",
    ">\n",
    "\n",
    "Then, define your input and output files and, if relevant, an optimization driver:\n",
    "\n",
    ">```yaml\n",
    "># Input and output files\n",
    ">input_file: ./problem_inputs.xml\n",
    ">output_file: ../workdir/problem_outputs.xml\n",
    ">\n",
    "># Definition of problem driver assuming the OpenMDAO convention \"import openmdao.api as om\"\n",
    ">driver: om.ScipyOptimizeDriver(tol=1e-2, optimizer='COBYLA')\n",
    ">\n",
    "\n",
    "Finally, you will choose the modules you want to use from the previous list and order them within the `model` section to fit the problem you want to solve. \n",
    "\n",
    "In this first example, we want to compute the minimal beam height to reach a given displacement. We will use the geometry, weight and displacements modules we have just created. As we first want to compute the beam geometry for a given inertia, then the beam linear weight and finally the inertia necessary to reach the targeted displacement. We will order the models as follows:\n",
    "\n",
    "1. `geometry` model using `tutorial.beam_problem.geometry` registered module. \n",
    "2. `weight` model using `tutorial.beam_problem.weight` registered module. \n",
    "3. `displacements`model using `tutorial.beam_problem.disp` registered module.\n",
    "\n",
    "As the variable `data:beam_problem:geometry:Ixx` is an output of the displacements module and an input of the geometry one, a loop is created and we need to introduce solvers.\n",
    "\n",
    "Then, you should end with a configuration file that looks like this: \n",
    "\n",
    ">```yaml\n",
    "># Definition of OpenMDAO model\n",
    "># Although \"model\" is a mandatory name for the top level of the model, its\n",
    "># sub-components can be freely named by user\n",
    ">model:\n",
    ">\n",
    ">  #  Solvers are defined assuming the OpenMDAO convention \"import openmdao.api as om\"\n",
    ">  nonlinear_solver: om.NonlinearBlockGS(maxiter=100, atol=1e-2, iprint=1)\n",
    ">  linear_solver: om.DirectSolver()\n",
    ">  \n",
    ">  geometry:\n",
    ">    id: \"tutorial.beam_problem.geometry\"\n",
    ">    \n",
    ">  weight:\n",
    ">    id: \"tutorial.beam_problem.weight\"\n",
    ">    \n",
    ">  displacements:\n",
    ">    id: \"tutorial.beam_problem.disp\"\n",
    ">```\n",
    "\n",
    "To check the connections between your models and visualize the loops you can plot the $N^2$ diagram as illustrated bellow: "
   ]
  },
  {
   "cell_type": "code",
   "execution_count": 4,
   "metadata": {},
   "outputs": [
    {
     "name": "stderr",
     "output_type": "stream",
     "text": [
      "INFO    : N2 diagram written in D:\\THESE\\Tools\\FAST-OAD-fork\\FAST-OAD\\src\\fastoad\\notebooks\\01_Quick_start\\workdir\\n2.html\n"
     ]
    },
    {
     "data": {
      "text/html": [
       "\n",
       "        <iframe\n",
       "            width=\"100%\"\n",
       "            height=\"500px\"\n",
       "            src=\"workdir\\n2.html\"\n",
       "            frameborder=\"0\"\n",
       "            allowfullscreen\n",
       "            \n",
       "        ></iframe>\n",
       "        "
      ],
      "text/plain": [
       "<IPython.lib.display.IFrame at 0x1ec6eeb53d0>"
      ]
     },
     "execution_count": 4,
     "metadata": {},
     "output_type": "execute_result"
    }
   ],
   "source": [
    "N2_FILE = pth.join(WORK_FOLDER, \"n2.html\")\n",
    "oad.write_n2(CONFIGURATION_FILE_NAME, N2_FILE, overwrite=True)\n",
    "from IPython.display import IFrame\n",
    "\n",
    "IFrame(src=N2_FILE, width=\"100%\", height=\"500px\")"
   ]
  },
  {
   "cell_type": "markdown",
   "metadata": {},
   "source": [
    "## 3. Input file \n",
    "\n",
    "Once the configuration file is generated you can generate or use an already generated input file: "
   ]
  },
  {
   "cell_type": "code",
   "execution_count": 5,
   "metadata": {},
   "outputs": [
    {
     "data": {
      "application/vnd.jupyter.widget-view+json": {
       "model_id": "3cf749933c9746d88eb37533680701dc",
       "version_major": 2,
       "version_minor": 0
      },
      "text/plain": [
       "VBox(children=(HBox(children=(Button(description='Load', icon='upload', style=ButtonStyle(), tooltip='Load the…"
      ]
     },
     "metadata": {},
     "output_type": "display_data"
    }
   ],
   "source": [
    "# UNCOMMENT THE FOLLOWING LINE TO GENERATE A BLANK INPUT FILE\n",
    "# oad.generate_inputs(CONFIGURATION_FILE_NAME, overwrite=True)\n",
    "INPUT_FILE_NAME = pth.join(DATA_FOLDER, \"problem_inputs.xml\")\n",
    "oad.variable_viewer(INPUT_FILE_NAME)"
   ]
  },
  {
   "cell_type": "markdown",
   "metadata": {},
   "source": [
    "## 4. Run the problem \n",
    "\n",
    "You can now run the problem:"
   ]
  },
  {
   "cell_type": "code",
   "execution_count": 6,
   "metadata": {},
   "outputs": [
    {
     "name": "stderr",
     "output_type": "stream",
     "text": [
      "INFO    : Loaded variable descriptions in D:\\THESE\\Tools\\FAST-OAD-fork\\FAST-OAD\\src\\fastoad\\notebooks\\01_Quick_start\\data\\../modules\n",
      "INFO    : Loading bundles from D:\\THESE\\Tools\\FAST-OAD-fork\\FAST-OAD\\src\\fastoad\\notebooks\\01_Quick_start\\data\\../modules\n",
      "INFO    : Installed bundle modules.weight (ID 219 )\n",
      "INFO    : Installed bundle modules (ID 215 )\n",
      "INFO    : Installed bundle modules.displacements (ID 216 )\n",
      "INFO    : Installed bundle modules.section_properties (ID 217 )\n",
      "INFO    : Installed bundle modules.stresses (ID 218 )\n",
      "INFO    : Computation finished after 0.13 seconds\n",
      "INFO    : Problem outputs written in D:\\THESE\\Tools\\FAST-OAD-fork\\FAST-OAD\\src\\fastoad\\notebooks\\01_Quick_start\\workdir\\problem_outputs.xml\n"
     ]
    },
    {
     "name": "stdout",
     "output_type": "stream",
     "text": [
      "NL: NLBGS Converged in 7 iterations\n"
     ]
    }
   ],
   "source": [
    "disp_problem = oad.evaluate_problem(CONFIGURATION_FILE_NAME, overwrite=True)"
   ]
  },
  {
   "cell_type": "code",
   "execution_count": 7,
   "metadata": {},
   "outputs": [
    {
     "data": {
      "application/vnd.jupyter.widget-view+json": {
       "model_id": "563baad8b8fc408682cee37938cf2e21",
       "version_major": 2,
       "version_minor": 0
      },
      "text/plain": [
       "VBox(children=(HBox(children=(Button(description='Load', icon='upload', style=ButtonStyle(), tooltip='Load the…"
      ]
     },
     "metadata": {},
     "output_type": "display_data"
    }
   ],
   "source": [
    "oad.variable_viewer(disp_problem.output_file_path)"
   ]
  },
  {
   "cell_type": "markdown",
   "metadata": {},
   "source": [
    "## 5. Change models \n",
    "\n",
    "To solve the second problem -- that consists in finding the beam height necessary to sustain the external loads without exceeding the material yield stress -- you have to replace the last module. Here again, everything happens in the [configuration file](./data/beam_problem_stress.yml).\n",
    "\n",
    "You have to replace the ```id:``` of the last module: `\"fastoad.beam_problem.disp\"` by the new one `\"fastoad.beam_problem.stresses\"`. \n",
    "\n",
    "You can also update the name of the module, replacing `displacements` by `stresses` as illustrated in the example. This is not a mandatory action but it should be used to keep the readability, especially if the action performed by the module changes. \n",
    "\n",
    "<u>*Note:*</u> *Save the configuration file with a different name to run the two problems independently.*"
   ]
  },
  {
   "cell_type": "markdown",
   "metadata": {},
   "source": [
    "<div class=\"row\">\n",
    "  <div class=\"column\">\n",
    "    <img src=\"./img/stress_config.gif\" width=\"800\">\n",
    "  </div>\n",
    "</div>\n",
    "\n",
    "Then generate the input file and update the input data if necessary. "
   ]
  },
  {
   "cell_type": "code",
   "execution_count": null,
   "metadata": {},
   "outputs": [],
   "source": [
    "CONFIGURATION_FILE_STRESS_NAME = pth.join(DATA_FOLDER, \"beam_problem_stress.yml\")\n",
    "# UNCOMMENT THE FOLLOWING LINE TO GENERATE A BLANK INPUT FILE\n",
    "# oad.generate_inputs(CONFIGURATION_FILE_STRESS_NAME, overwrite=True)\n",
    "INPUT_FILE_NAME = pth.join(DATA_FOLDER, \"problem_inputs_stress.xml\")\n",
    "oad.variable_viewer(INPUT_FILE_NAME)"
   ]
  },
  {
   "cell_type": "code",
   "execution_count": null,
   "metadata": {},
   "outputs": [],
   "source": [
    "stress_problem = oad.evaluate_problem(CONFIGURATION_FILE_STRESS_NAME, overwrite=True)"
   ]
  },
  {
   "cell_type": "code",
   "execution_count": null,
   "metadata": {},
   "outputs": [],
   "source": [
    "oad.variable_viewer(stress_problem.output_file_path)"
   ]
  },
  {
   "cell_type": "markdown",
   "metadata": {},
   "source": [
    "# Variable description file\n",
    "\n",
    "As you may have noticed from the `variable_viewer` function, FAST-OAD provides description for the newly created variables. Indeed, FAST-OAD allows you, once you have created new models, to complete them with a detailed description of your variables. This action is of particular interest if you share your models. \n",
    "\n",
    "To do so, in the folder(s) containing your modules you have to create a text file with the name `variable_descriptions.txt`. Then, fill this file with the variables and their description as follows:   \n",
    "\n",
    "> ```text\n",
    "> # Custom modules variables description file\n",
    "> data:beam_problem:geometry:l || Beam section width\n",
    "> data:beam_problem:geometry:h || Beam section height\n",
    "> data:beam_problem:geometry:L || Beam length\n",
    "> data:beam_problem:geometry:Ixx || Beam section second moment of area w.r.t. x axis \n",
    "> data:beam_problem:material:density || Material density \n",
    "> data:beam_problem:material:yield_stress || Material yield stress\n",
    "> data:beam_problem:material:E || Material Young's modulus\n",
    "> data:beam_problem:weight:linear_weight || Beam linear weight\n",
    "> data:beam_problem:displacements:target || Beam targeted displacement when loads are applied\n",
    "> data:beam_problem:forces:F || Force applied at the tip of the beam\n",
    ">\n",
    ">```\n",
    "\n",
    "Those descriptions are now printed in the dedicated column when the `variable_viewer` is called. For more information please refer to the [documentation](https://fast-oad.readthedocs.io/en/stable/documentation/custom_modules/add_variable_documentation.html)."
   ]
  },
  {
   "cell_type": "code",
   "execution_count": null,
   "metadata": {},
   "outputs": [],
   "source": []
  }
 ],
 "metadata": {
  "kernelspec": {
   "display_name": "Python 3 (ipykernel)",
   "language": "python",
   "name": "python3"
  },
  "language_info": {
   "codemirror_mode": {
    "name": "ipython",
    "version": 3
   },
   "file_extension": ".py",
   "mimetype": "text/x-python",
   "name": "python",
   "nbconvert_exporter": "python",
   "pygments_lexer": "ipython3",
   "version": "3.8.16"
  }
 },
 "nbformat": 4,
 "nbformat_minor": 4
}
