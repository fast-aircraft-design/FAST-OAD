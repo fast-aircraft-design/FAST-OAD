{
 "cells": [
  {
   "cell_type": "markdown",
   "metadata": {},
   "source": [
    "<div class=\"row\">\n",
    "  <div class=\"column\">\n",
    "    <img src=\"./img/logo-onera.png\" width=\"200\">\n",
    "  </div>\n",
    "  <div class=\"column\">\n",
    "    <img src=\"./img/logo-ISAE_SUPAERO.png\" width=\"200\">\n",
    "  </div>\n",
    "</div>"
   ]
  },
  {
   "cell_type": "markdown",
   "metadata": {},
   "source": [
    "# Custom Modules Management\n",
    "\n",
    "This tutorial aims to guide you in the management of your custom modules and in the resolution of a simple problem using FAST-OAD. Complementary information can be found in the [documentation](https://fast-oad.readthedocs.io/en/latest/documentation/custom_modules/index.html).\n",
    "\n",
    "The problem under consideration consists in a cantilever beam of length **L** with a rectangular section of height **h** and width **l**. A force **F** is applied at the tip of the beam that also undergoes its proper weight homogeneously distributed **w**. \n",
    "\n",
    "The objectives of this tutorial will be to create and call custom modules through FAST-OAD to solve the following problems:\n",
    "* For **F** = 1000N, **L** = 2.0m, **l** = 0.3m: Find the height **h** that leads to a displacement of 0.02m considering an aluminium beam. \n",
    "* For **F** = 1e5N, **L** = 10.0m, **l** = 0.3m: Find the height **h** so that the maximum normal stress within the beam does not exceed the aluminium yield stress (450e6 Pa)."
   ]
  },
  {
   "cell_type": "markdown",
   "metadata": {},
   "source": [
    "<div class=\"row\">\n",
    "  <div class=\"column\">\n",
    "    <img src=\"./img/problem_description.png\" width=\"600\">\n",
    "  </div>\n",
    "</div>"
   ]
  },
  {
   "cell_type": "markdown",
   "metadata": {},
   "source": [
    "## Imports"
   ]
  },
  {
   "cell_type": "code",
   "execution_count": null,
   "metadata": {},
   "outputs": [],
   "source": [
    "import os.path as pth\n",
    "import logging\n",
    "import fastoad.api as oad"
   ]
  },
  {
   "cell_type": "markdown",
   "metadata": {},
   "source": [
    "## Directories and files definition "
   ]
  },
  {
   "cell_type": "code",
   "execution_count": null,
   "metadata": {},
   "outputs": [],
   "source": [
    "DATA_FOLDER = \"data\"\n",
    "\n",
    "WORK_FOLDER = \"workdir\"\n",
    "\n",
    "CONFIGURATION_FILE_NAME = pth.join(DATA_FOLDER, \"beam_problem.yml\")\n",
    "\n",
    "CUSTOM_MODULES_FOLDER_PATH = \"./modules\"\n",
    "\n",
    "logging.basicConfig(level=logging.INFO, format=\"%(levelname)-8s: %(message)s\")"
   ]
  },
  {
   "cell_type": "markdown",
   "metadata": {},
   "source": [
    "## 1. Custom Modules\n",
    "\n",
    "### 1.1. Modules Creation and Registration\n",
    "\n",
    "The following modules are created: [section_properties.py](./modules/section_properties.py), [weight.py](./modules/weight.py), [displacements.py](./modules/displacements.py), [stresses.py](./modules/stresses.py). They respectively compute: \n",
    "* The height of the beam for a given moment of inertia and width. \n",
    "* The linear weight **w** from material density and section dimensions. \n",
    "* The necessary moment of inertia to reach a given displacement. \n",
    "* The necessary moment of inertia not to overcome the material yield stress. \n",
    "\n",
    "As you may notice, each module is registered using the decorator `@oad.RegisterOpenMDAOSystem` and a unique id. \n",
    "\n",
    "An example is provided for the geometry module that computes the height of the beam for a given moment of inertia and a given width: \n",
    "\n",
    "> ``` python\n",
    "> import numpy as np\n",
    "> import openmdao.api as om\n",
    ">\n",
    "> import fastoad.api as oad\n",
    ">\n",
    ">\n",
    "> @oad.RegisterOpenMDAOSystem(\"tutorial.beam_problem.geometry\")\n",
    "> class RectangularSection(om.ExplicitComponent):\n",
    ">     \"\"\"\n",
    ">     Computes section properties of a beam given width and height.\n",
    ">     \"\"\"\n",
    ">\n",
    ">     def setup(self):\n",
    ">\n",
    ">         self.add_input(\"data:geometry:l\", val=np.nan, units=\"m\")\n",
    ">         self.add_input(\"data:geometry:Ixx\", val=np.nan, units=\"m ** 4\")\n",
    ">         self.add_output(\"data:geometry:h\", val=0.01, units=\"m\")\n",
    ">\n",
    ">\n",
    ">     def setup_partials(self):\n",
    ">\n",
    ">         self.declare_partials(\"*\", \"*\", method=\"fd\")\n",
    ">\n",
    ">     def compute(self, inputs, outputs):\n",
    ">         l = inputs[\"data:geometry:l\"]\n",
    ">         I_xx = inputs[\"data:geometry:Ixx\"]\n",
    ">\n",
    ">         outputs[\"data:geometry:h\"] = (12 * I_xx / l) ** (1 / 3)\n",
    "> ```"
   ]
  },
  {
   "cell_type": "markdown",
   "metadata": {},
   "source": [
    "### 1.2. Check Registration \n",
    "\n",
    "To check that your modules are properly registered, call the `list_modules` function with your custom modules folder(s) path(s) as an argument and verify that your modules correctly appear in the list."
   ]
  },
  {
   "cell_type": "code",
   "execution_count": null,
   "metadata": {},
   "outputs": [],
   "source": [
    "oad.list_modules(CUSTOM_MODULES_FOLDER_PATH)"
   ]
  },
  {
   "cell_type": "markdown",
   "metadata": {},
   "source": [
    "## 2. Configuration file\n"
   ]
  },
  {
   "cell_type": "markdown",
   "metadata": {},
   "source": [
    "Now you are sure your custom modules are properly registered, you can complete the YAML configuration file. \n",
    "\n",
    "First, in the section `module_folders` indicate the path(s) toward your custom modules folder(s): \n",
    "\n",
    "*Note: Absolute or relative path with respect to configuration file location.*\n",
    "\n",
    ">```yaml\n",
    ">title: Tutorial Beam Problem\n",
    ">\n",
    "># List of folder paths where user added custom registered OpenMDAO components\n",
    ">module_folders:\n",
    ">    - ../modules\n",
    ">\n",
    "\n",
    "Then, define your input and output files and, if relevant, an optimization driver:\n",
    "\n",
    ">```yaml\n",
    "># Input and output files\n",
    ">input_file: ./problem_inputs.xml\n",
    ">output_file: ../workdir/problem_outputs.xml\n",
    ">\n",
    "># Definition of problem driver assuming the OpenMDAO convention \"import openmdao.api as om\"\n",
    ">driver: om.ScipyOptimizeDriver(tol=1e-2, optimizer='COBYLA')\n",
    ">\n",
    "\n",
    "Finally, you will choose the modules you want to use from the previous list and order them within the `model` section to fit the problem you want to solve. \n",
    "\n",
    "In this first example, we want to compute the minimal beam height to reach a given displacement. We will use the geometry, weight and displacements modules we have just created. As we first want to compute the beam geometry for a given inertia, then the beam linear weight and finally the inertia necessary to reach the targeted displacement. We will order the models as follows:\n",
    "\n",
    "1. `geometry` model using `tutorial.beam_problem.geometry` registered module. \n",
    "2. `weight` model using `tutorial.beam_problem.weight` registered module. \n",
    "3. `displacements`model using `tutorial.beam_problem.disp` registered module.\n",
    "\n",
    "As the variable `data:beam_problem:geometry:Ixx` is an output of the displacements module and an input of the geometry one, a loop is created and we need to introduce solvers.\n",
    "\n",
    "Then, you should end with a configuration file that looks like this: \n",
    "\n",
    ">```yaml\n",
    "># Definition of OpenMDAO model\n",
    "># Although \"model\" is a mandatory name for the top level of the model, its\n",
    "># sub-components can be freely named by user\n",
    ">model:\n",
    ">\n",
    ">  #  Solvers are defined assuming the OpenMDAO convention \"import openmdao.api as om\"\n",
    ">  nonlinear_solver: om.NonlinearBlockGS(maxiter=100, atol=1e-2, iprint=1)\n",
    ">  linear_solver: om.DirectSolver()\n",
    ">  \n",
    ">  geometry:\n",
    ">    id: \"tutorial.beam_problem.geometry\"\n",
    ">    \n",
    ">  weight:\n",
    ">    id: \"tutorial.beam_problem.weight\"\n",
    ">    \n",
    ">  displacements:\n",
    ">    id: \"tutorial.beam_problem.disp\"\n",
    ">```\n",
    "\n",
    "To check the connections between your models and visualize the loops you can plot the $N^2$ diagram as illustrated bellow: "
   ]
  },
  {
   "cell_type": "code",
   "execution_count": null,
   "metadata": {},
   "outputs": [],
   "source": [
    "N2_FILE = pth.join(WORK_FOLDER, \"n2.html\")\n",
    "oad.write_n2(CONFIGURATION_FILE_NAME, N2_FILE, overwrite=True)\n",
    "from IPython.display import IFrame\n",
    "\n",
    "IFrame(src=N2_FILE, width=\"100%\", height=\"500px\")"
   ]
  },
  {
   "cell_type": "markdown",
   "metadata": {},
   "source": [
    "## 3. Input file \n",
    "\n",
    "Once the configuration file is generated you can generate or use an already generated input file: "
   ]
  },
  {
   "cell_type": "code",
   "execution_count": null,
   "metadata": {},
   "outputs": [],
   "source": [
    "# UNCOMMENT THE FOLLOWING LINE TO GENERATE A BLANK INPUT FILE\n",
    "# oad.generate_inputs(CONFIGURATION_FILE_NAME, overwrite=True)\n",
    "INPUT_FILE_NAME = pth.join(DATA_FOLDER, \"problem_inputs.xml\")\n",
    "oad.variable_viewer(INPUT_FILE_NAME)"
   ]
  },
  {
   "cell_type": "markdown",
   "metadata": {},
   "source": [
    "## 4. Run the problem \n",
    "\n",
    "You can now run the problem:"
   ]
  },
  {
   "cell_type": "code",
   "execution_count": null,
   "metadata": {},
   "outputs": [],
   "source": [
    "disp_problem = oad.evaluate_problem(CONFIGURATION_FILE_NAME, overwrite=True)"
   ]
  },
  {
   "cell_type": "code",
   "execution_count": null,
   "metadata": {},
   "outputs": [],
   "source": [
    "oad.variable_viewer(disp_problem.output_file_path)"
   ]
  },
  {
   "cell_type": "markdown",
   "metadata": {},
   "source": [
    "## 5. Change models \n",
    "\n",
    "To solve the second problem -- that consists in finding the beam height necessary to sustain the external loads without exceeding the material yield stress -- you have to replace the last module. Here again, everything happens in the [configuration file](./data/beam_problem_stress.yml).\n",
    "\n",
    "You have to replace the ```id:``` of the last module: `\"fastoad.beam_problem.disp\"` by the new one `\"fastoad.beam_problem.stresses\"`. \n",
    "\n",
    "You can also update the name of the module, replacing `displacements` by `stresses` as illustrated in the example. This is not a mandatory action but it should be used to keep the readability, especially if the action performed by the module changes. \n",
    "\n",
    "<u>*Note:*</u> *Save the configuration file with a different name to run the two problems independently.*"
   ]
  },
  {
   "cell_type": "markdown",
   "metadata": {},
   "source": [
    "<div class=\"row\">\n",
    "  <div class=\"column\">\n",
    "    <img src=\"./img/stress_config.gif\" width=\"800\">\n",
    "  </div>\n",
    "</div>\n",
    "\n",
    "Then generate the input file and update the input data if necessary. "
   ]
  },
  {
   "cell_type": "code",
   "execution_count": null,
   "metadata": {},
   "outputs": [],
   "source": [
    "CONFIGURATION_FILE_STRESS_NAME = pth.join(DATA_FOLDER, \"beam_problem_stress.yml\")\n",
    "# UNCOMMENT THE FOLLOWING LINE TO GENERATE A BLANK INPUT FILE\n",
    "# oad.generate_inputs(CONFIGURATION_FILE_STRESS_NAME, overwrite=True)\n",
    "INPUT_FILE_NAME = pth.join(DATA_FOLDER, \"problem_inputs_stress.xml\")\n",
    "oad.variable_viewer(INPUT_FILE_NAME)"
   ]
  },
  {
   "cell_type": "code",
   "execution_count": null,
   "metadata": {},
   "outputs": [],
   "source": [
    "stress_problem = oad.evaluate_problem(CONFIGURATION_FILE_STRESS_NAME, overwrite=True)"
   ]
  },
  {
   "cell_type": "code",
   "execution_count": null,
   "metadata": {},
   "outputs": [],
   "source": [
    "oad.variable_viewer(stress_problem.output_file_path)"
   ]
  },
  {
   "cell_type": "markdown",
   "metadata": {},
   "source": [
    "# Variable description file\n",
    "\n",
    "As you may have noticed from the `variable_viewer` function, FAST-OAD provides description for the newly created variables. Indeed, FAST-OAD allows you, once you have created new models, to complete them with a detailed description of your variables. This action is of particular interest if you share your models. \n",
    "\n",
    "To do so, in the folder(s) containing your modules you have to create a text file with the name `variable_descriptions.txt`. Then, fill this file with the variables and their description as follows:   \n",
    "\n",
    "> ```text\n",
    "> # Custom modules variables description file\n",
    "> data:beam_problem:geometry:l || Beam section width\n",
    "> data:beam_problem:geometry:h || Beam section height\n",
    "> data:beam_problem:geometry:L || Beam length\n",
    "> data:beam_problem:geometry:Ixx || Beam section second moment of area w.r.t. x axis \n",
    "> data:beam_problem:material:density || Material density \n",
    "> data:beam_problem:material:yield_stress || Material yield stress\n",
    "> data:beam_problem:material:E || Material Young's modulus\n",
    "> data:beam_problem:weight:linear_weight || Beam linear weight\n",
    "> data:beam_problem:displacements:target || Beam targeted displacement when loads are applied\n",
    "> data:beam_problem:forces:F || Force applied at the tip of the beam\n",
    ">\n",
    ">```\n",
    "\n",
    "Those descriptions are now printed in the dedicated column when the `variable_viewer` is called. For more information please refer to the [documentation](https://fast-oad.readthedocs.io/en/stable/documentation/custom_modules/add_variable_documentation.html)."
   ]
  },
  {
   "cell_type": "code",
   "execution_count": null,
   "metadata": {},
   "outputs": [],
   "source": []
  }
 ],
 "metadata": {
  "kernelspec": {
   "display_name": "Python 3 (ipykernel)",
   "language": "python",
   "name": "python3"
  },
  "language_info": {
   "codemirror_mode": {
    "name": "ipython",
    "version": 3
   },
   "file_extension": ".py",
   "mimetype": "text/x-python",
   "name": "python",
   "nbconvert_exporter": "python",
   "pygments_lexer": "ipython3",
   "version": "3.8.12"
  }
 },
 "nbformat": 4,
 "nbformat_minor": 4
}
